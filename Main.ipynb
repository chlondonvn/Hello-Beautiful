{
 "cells": [
  {
   "cell_type": "code",
   "execution_count": 1,
   "metadata": {},
   "outputs": [],
   "source": [
    "#Hangman created for Iron Hack's Data Analysis 08.20 Boot Camp\n",
    "\n",
    "#We need to import time in order to use one of it's fucntions.\n",
    "\n",
    "import time "
   ]
  },
  {
   "cell_type": "code",
   "execution_count": null,
   "metadata": {},
   "outputs": [],
   "source": []
  },
  {
   "cell_type": "raw",
   "metadata": {},
   "source": [
    "#In order for the game to choose \"randomly\" from a list of words to guess, we need the import random module:\n",
    "\n",
    "import random"
   ]
  },
  {
   "cell_type": "code",
   "execution_count": null,
   "metadata": {},
   "outputs": [],
   "source": [
    "#Defining list of words:\n",
    "\n",
    "words = ['ephemeral', 'serendipity', 'aurora' , 'alluring', 'euphoria', 'ineffable' , 'sonorous', 'evocative', 'eternal']\n",
    "\n",
    "#Defining a function to choose a word  and return it in upper case:\n",
    "\n",
    "def get_word():\n",
    "    word= random.choice(words)\n",
    "    return word.upper()\n",
    "\n",
    "#Defining a fuction to disply underscore when guess is false and creating lists:\n",
    "\n",
    "def play(word):\n",
    "    word_completion = \"_\" *len(word)\n",
    "    guessed = false\n",
    "    guessed_letters = []\n",
    "    guessed_words= []\n",
    "    tries = 6 #how many steps until hangman is drawn  \n",
    "    print('Hey beautiful ;)')\n",
    "    time.sleep(2)\n",
    "    print('I will tell you a secret if you guess the word on my mind')\n",
    "    while not guessed and tries > 0:\n",
    "        time.sleep(2)\n",
    "        guess = input('Guess a word or letter :):  ').upper() #this is to convert the input to upper case\n",
    "        if len(guess) == 1 and guess,isalpha() #this is for single letters input where only alphabet input is taken\n",
    "            if guess in guessed_letters:\n",
    "                print('Babes you already said the letter:', guess)\n",
    "            elif guess not in word:\n",
    "                print( 'Nope, that letter is not in the word, try again.')\n",
    "                tries -= 1\n",
    "                guessed_letters.append(guess)\n",
    "            else:\n",
    "                time.sleep(2)\n",
    "                print('Yup,' + guess 'is on the word :D')\n",
    "                guessed_letters.append(guess)\n",
    "                word_as_list = list(word_completion)\n",
    "                #to reveal user guesses, convertion of word completion from a string to a list to index it\n",
    "                indeces = [i in i, letter in enumerate(word) if letter == guess]\n",
    "                For index in indeces: \n",
    "                    word_as_list[index]= guess\n",
    "                word_completion = \"\".joint(word_as_list\n",
    "                if \"_\" not in word_completion\n",
    "    \n",
    "        \n",
    "        \n",
    "        \n",
    "        elif len(guess) == len(word) and guess.isalpha():\n",
    "            time.sleep(2)\n",
    "            \n",
    "            \n",
    "            print('Well look at you reading my mind, you won hun :)')"
   ]
  }
 ],
 "metadata": {
  "kernelspec": {
   "display_name": "Python 3",
   "language": "python",
   "name": "python3"
  },
  "language_info": {
   "codemirror_mode": {
    "name": "ipython",
    "version": 3
   },
   "file_extension": ".py",
   "mimetype": "text/x-python",
   "name": "python",
   "nbconvert_exporter": "python",
   "pygments_lexer": "ipython3",
   "version": "3.8.5"
  }
 },
 "nbformat": 4,
 "nbformat_minor": 4
}
